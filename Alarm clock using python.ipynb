{
 "cells": [
  {
   "cell_type": "code",
   "execution_count": null,
   "metadata": {},
   "outputs": [
    {
     "name": "stdout",
     "output_type": "stream",
     "text": [
      "Enter the time of alarm to be set at format:HH:MM:SS:AM/PM\n",
      "03:06:00:pm\n",
      "Setting up alarm..\n",
      "Wake Up!\n"
     ]
    }
   ],
   "source": [
    "from datetime import datetime   \n",
    "from playsound import playsound\n",
    "time = input(\"Enter the time of alarm to be set at format:HH:MM:SS:AM/PM\\n\")\n",
    "hour=time[0:2]\n",
    "minute=time[3:5]\n",
    "seconds=time[6:8]\n",
    "period =time[9:11].upper()\n",
    "print(\"Setting up alarm..\")\n",
    "while True:\n",
    "    now = datetime.now()\n",
    "    org_hour = now.strftime(\"%I\")\n",
    "    org_minute = now.strftime(\"%M\")\n",
    "    org_seconds = now.strftime(\"%S\")\n",
    "    org_period = now.strftime(\"%p\")\n",
    "    if(period==org_period and hour==org_hour and minute==org_minute and seconds==org_seconds):\n",
    "        print(\"Wake Up!\")\n",
    "        playsound('D:\\Music\\Your_name_OST_RADWIMPS_-_Sparkle_(mp3.pm).mp3')\n",
    "        break"
   ]
  },
 ],
 "metadata": {
  "kernelspec": {
   "display_name": "Python 3",
   "language": "python",
   "name": "python3"
  },
  "language_info": {
   "codemirror_mode": {
    "name": "ipython",
    "version": 3
   },
   "file_extension": ".py",
   "mimetype": "text/x-python",
   "name": "python",
   "nbconvert_exporter": "python",
   "pygments_lexer": "ipython3",
   "version": "3.8.3"
  }
 },
 "nbformat": 4,
 "nbformat_minor": 4
}
