{
  "nbformat": 4,
  "nbformat_minor": 0,
  "metadata": {
    "colab": {
      "name": "Acronyms",
      "provenance": [],
      "authorship_tag": "ABX9TyP/6J0pBZCZRG/Y1VjZ58bn",
      "include_colab_link": true
    },
    "kernelspec": {
      "name": "python3",
      "display_name": "Python 3"
    },
    "language_info": {
      "name": "python"
    }
  },
  "cells": [
    {
      "cell_type": "markdown",
      "metadata": {
        "id": "view-in-github",
        "colab_type": "text"
      },
      "source": [
        "<a href=\"https://colab.research.google.com/github/sanju212177/python-projects/blob/main/Acronyms.ipynb\" target=\"_parent\"><img src=\"https://colab.research.google.com/assets/colab-badge.svg\" alt=\"Open In Colab\"/></a>"
      ]
    },
    {
      "cell_type": "code",
      "metadata": {
        "colab": {
          "base_uri": "https://localhost:8080/"
        },
        "id": "c_U-yxHAaZew",
        "outputId": "c1308901-5883-47f7-ded7-4948b1d61374"
      },
      "source": [
        "phrase = (input(\"Enter a Phrase: \"))\n",
        "text = phrase.split()\n",
        "a = \" \"\n",
        "for i in text:\n",
        "    a = a+str(i[0]).upper()\n",
        "print(a)"
      ],
      "execution_count": 1,
      "outputs": [
        {
          "output_type": "stream",
          "text": [
            "Enter a Phrase: machine learning\n",
            " ML\n"
          ],
          "name": "stdout"
        }
      ]
    }
  ]
}